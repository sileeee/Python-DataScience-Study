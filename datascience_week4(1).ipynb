{
  "nbformat": 4,
  "nbformat_minor": 0,
  "metadata": {
    "colab": {
      "name": "datascience_week4(1).ipynb",
      "provenance": [],
      "collapsed_sections": [],
      "authorship_tag": "ABX9TyPrD1mbWaVlnZXHf1lEuAZQ",
      "include_colab_link": true
    },
    "kernelspec": {
      "name": "python3",
      "display_name": "Python 3"
    }
  },
  "cells": [
    {
      "cell_type": "markdown",
      "metadata": {
        "id": "view-in-github",
        "colab_type": "text"
      },
      "source": [
        "<a href=\"https://colab.research.google.com/github/sileeee/python-data_science_study/blob/master/datascience_week4(1).ipynb\" target=\"_parent\"><img src=\"https://colab.research.google.com/assets/colab-badge.svg\" alt=\"Open In Colab\"/></a>"
      ]
    },
    {
      "cell_type": "markdown",
      "metadata": {
        "id": "CN5D502hdKaO"
      },
      "source": [
        "### Ensemble\n",
        ": Ensemble(앙상블)이란 여러 머신러닝 모델을 연결하여 더 강력한 모델을 만드는 기법\n",
        "- 정확도가 상승, 처리속도 느려짐\n",
        "- (일반적으로는 혼자 판단하기 보다 각기 전문 영역을 가진 여러명의 전문가들의 의견을 들어 종합하는게 더 합리적인 의사결정)\n",
        "\n",
        "### Random Forest\n",
        ": Random Forest가 여러개의 Decision Tree를 만들고 연결하여 결과를 취합한 후 평균내어 성능을 높인 모델이다. 즉 Ensemble의 원리를 이용한 방법.\n",
        "- Decision Tree는 꽤 좋은 모델이라 여러 상황에서도 예측을 잘 하는 편이지만, 일부 데이터에 대해 overfitting하는 경향이 있다. 그러한 원리, 문제를 해결하는 방법.\n",
        "\n",
        "### Overfitting\n",
        ": Overfitting(과적합)이란 학습 데이터를 과하게 학습한 나머지 학습 상황에서는 오차가 줄지만 실제 데이터들에 대해 오차가 증가하는 현상, 너무 지나치게 훈련 데이터를 맹신해서 실제 예측이 자주 빗나가는 현상<br/>\n",
        "(ex) 머신러닝에서) Train Accuracy가 100%가 나오는데 실제 테스트는 현저하게 떨어지는 50%가 나온다.\n",
        "(ex) 일상에서) 볼링공에 머리를 한번 맞아 봤는데 전혀 아프지 않았다. 볼링공으로 사람 머리를 때리는건 하나도 위험하지 않구나.\n",
        "\n",
        "### Decision Tree를 Ensemble 해보기\n",
        "\n",
        "- 여러개의 Decision Tree 만들기\n",
        "\n",
        "(지난주 코드에 이어서)\n",
        "\n"
      ]
    },
    {
      "cell_type": "markdown",
      "metadata": {
        "id": "sTbtkLFAfILR"
      },
      "source": [
        "(1) 세개의 트리 구성 및 정확도 확인"
      ]
    },
    {
      "cell_type": "code",
      "metadata": {
        "id": "m62WHA6EeorW"
      },
      "source": [
        "from sklearn.tree import DecisionTreeClassifier\n",
        "\n",
        "tree1 = DecisionTreeClassifier()\n",
        "tree1.fit(x_train, y_train)\n",
        "\n",
        "print('training set accuracy:', tree1.score(x_train, y_train))\n",
        "\n",
        "tree2 = DecisionTreeClassifier()\n",
        "tree2.fit(x_train, y_train)\n",
        "\n",
        "print('training set accuracy:', tree2.score(x_train, y_train))\n",
        "\n",
        "tree3 = DecisionTreeClassifier()\n",
        "tree3.fit(x_train, y_train)\n",
        "\n",
        "print('training set accuracy:', tree3.score(x_train, y_train))"
      ],
      "execution_count": null,
      "outputs": []
    },
    {
      "cell_type": "code",
      "metadata": {
        "id": "PpjUsReQdIXr"
      },
      "source": [
        "# 앞 쪽 100개만 validation set으로 지정하기\n",
        "x_valid = x_train[0:100]\n",
        "y_valid = y_train[0:100]\n",
        "\n",
        "# 앞 100개 데이터를 제외한 남은 부분을 다시 trainset으로 재정의\n",
        "x_train = x_train[100:]\n",
        "y_train = y_train[100:]"
      ],
      "execution_count": null,
      "outputs": []
    },
    {
      "cell_type": "code",
      "metadata": {
        "id": "zEXTOl_je6t5"
      },
      "source": [
        "# 100개의 데이터를 제외한 x_train, y_train를 다시 훈련시켜줍니다.\n",
        "tree1.fit(x_train, y_train)\n",
        "\n",
        "print('training set accuracy:', tree1.score(x_train, y_train))\n",
        "print('validation set accuracy:', tree1.score(x_valid, y_valid))\n",
        "\n",
        "tree2 = DecisionTreeClassifier()\n",
        "tree2.fit(x_train, y_train)\n",
        "\n",
        "print('training set accuracy:', tree2.score(x_train, y_train))\n",
        "print('validation set accuracy:', tree2.score(x_valid, y_valid))\n",
        "\n",
        "tree3 = DecisionTreeClassifier()\n",
        "tree3.fit(x_train, y_train)\n",
        "\n",
        "print('training set accuracy:', tree3.score(x_train, y_train))\n",
        "print('validation set accuracy:', tree3.score(x_valid, y_valid))"
      ],
      "execution_count": null,
      "outputs": []
    },
    {
      "cell_type": "markdown",
      "metadata": {
        "id": "vXUG00ZMfd5a"
      },
      "source": [
        "(2) 여러개의 Decision Tree Ensemble 하기"
      ]
    },
    {
      "cell_type": "code",
      "metadata": {
        "id": "xf7kp1aZe73Q"
      },
      "source": [
        "prediction1 = tree1.predict(test)\n",
        "prediction2 = tree2.predict(test)\n",
        "prediction3 = tree3.predict(test)\n",
        "\n",
        "ensemble = (prediction1 + prediction2 + prediction3) / 3\n",
        "ensemble[ensemble > 0.5] = 1\n",
        "ensemble[ensemble <= 0.5] = 0\n",
        "\n",
        "# 평균을 내는 작업으로 인해 survived 데이터가 1,0에서 소수형태로 바뀜\n",
        "# 생존여부는 1,0으로 표시해야 하므로 다시 정수 형태로 변환\n",
        "ensemble = ensemble.astype(int)\n",
        "\n",
        "ensemble"
      ],
      "execution_count": null,
      "outputs": []
    },
    {
      "cell_type": "markdown",
      "metadata": {
        "id": "kCHruAM8ff2B"
      },
      "source": [
        "- tree1의 submit파일 만들기"
      ]
    },
    {
      "cell_type": "code",
      "metadata": {
        "id": "6rW3ntCFe75s"
      },
      "source": [
        "submit = pd.DataFrame({\n",
        "    'PassengerId': df_test['PassengerId'],\n",
        "    'Survived': ensemble\n",
        "})\n",
        "\n",
        "submit.to_csv('submit_ensemble.csv', index=False)"
      ],
      "execution_count": null,
      "outputs": []
    },
    {
      "cell_type": "markdown",
      "metadata": {
        "id": "nN1C5RVVgEBL"
      },
      "source": [
        "### Iris문제 Feature Engineering\n",
        "- Iris 데이터 불러오기"
      ]
    },
    {
      "cell_type": "code",
      "metadata": {
        "id": "ZKMQoH0le78A"
      },
      "source": [
        "import pandas as pd\n",
        "import numpy as np\n",
        "\n",
        "df = pd.read_csv('data/iris.csv')\n",
        "df.head(10)"
      ],
      "execution_count": null,
      "outputs": []
    },
    {
      "cell_type": "code",
      "metadata": {
        "id": "zuT8hBG_e7-S"
      },
      "source": [
        "df.info()"
      ],
      "execution_count": null,
      "outputs": []
    },
    {
      "cell_type": "markdown",
      "metadata": {
        "id": "xcDPeUpPgQ3k"
      },
      "source": [
        "- Feature Engineering and Visualization\n",
        "\n",
        "1)꽃받침 길이, 너비에 따른 종 분포도 보기"
      ]
    },
    {
      "cell_type": "code",
      "metadata": {
        "id": "MNhkdGMNe8Aa"
      },
      "source": [
        "import matplotlib.pyplot as plt\n",
        "%matplotlib inline\n",
        "\n",
        "import seaborn as sns\n",
        "sns.set()"
      ],
      "execution_count": null,
      "outputs": []
    },
    {
      "cell_type": "code",
      "metadata": {
        "id": "d7sADZ6XgT6x"
      },
      "source": [
        "sns.catplot(data=df, x='SepalLengthCm', y='SepalWidthCm', hue='Species', aspect=2)"
      ],
      "execution_count": null,
      "outputs": []
    },
    {
      "cell_type": "markdown",
      "metadata": {
        "id": "V__cKj85ggko"
      },
      "source": [
        "2) 꽃잎의 길이, 너비에 따른 종 분포도 보기"
      ]
    },
    {
      "cell_type": "code",
      "metadata": {
        "id": "eaL7Qji0gT9J"
      },
      "source": [
        "sns.catplot(data=df, x='PetalLengthCm', y='PetalWidthCm', hue='Species', aspect=2)"
      ],
      "execution_count": null,
      "outputs": []
    },
    {
      "cell_type": "markdown",
      "metadata": {
        "id": "IE1h1M67gjjX"
      },
      "source": [
        "- 특징 생성 - Feature Engineering with Pandas\n",
        "\n",
        "1) kdeplot으로 꽃받침 길이별 밀집 수준 파악"
      ]
    },
    {
      "cell_type": "code",
      "metadata": {
        "id": "hDAXudmPgT_f"
      },
      "source": [
        "facet = sns.FacetGrid(df, hue=\"Species\", aspect=2)\n",
        "facet.map(sns.kdeplot, 'SepalLengthCm')\n",
        "facet.add_legend()\n",
        "\n",
        "plt.show()"
      ],
      "execution_count": null,
      "outputs": []
    },
    {
      "cell_type": "markdown",
      "metadata": {
        "id": "rRP2CoJPgwb5"
      },
      "source": [
        "2) box plot으로 종별 꽃받침 길이 범위 파악"
      ]
    },
    {
      "cell_type": "code",
      "metadata": {
        "id": "ybAuOn0dgUBm"
      },
      "source": [
        "sns.catplot(kind='box', data=df, x='Species', y='SepalLengthCm', aspect=2)"
      ],
      "execution_count": null,
      "outputs": []
    },
    {
      "cell_type": "markdown",
      "metadata": {
        "id": "sy_Y35aQg0b0"
      },
      "source": [
        "3) violin plot - x: 종, y: 꽃받침 길이"
      ]
    },
    {
      "cell_type": "code",
      "metadata": {
        "id": "d4yHs06JgqpK"
      },
      "source": [
        "sns.violinplot(data=df, x='Species', y='SepalLengthCm')"
      ],
      "execution_count": null,
      "outputs": []
    },
    {
      "cell_type": "markdown",
      "metadata": {
        "id": "AV3Q5N6zg2Ip"
      },
      "source": [
        "4) violin plot - x: 종, y: 꽃받침 너비"
      ]
    },
    {
      "cell_type": "code",
      "metadata": {
        "id": "NNkeImK7gqto"
      },
      "source": [
        "sns.violinplot(data=df, x='Species', y='SepalWidthCm')"
      ],
      "execution_count": null,
      "outputs": []
    },
    {
      "cell_type": "markdown",
      "metadata": {
        "id": "IXn9d8ufg5KK"
      },
      "source": [
        "5) violin plot - x: 종, y: 꽃잎 길이"
      ]
    },
    {
      "cell_type": "code",
      "metadata": {
        "id": "Fqy7G8VkgqwD"
      },
      "source": [
        "sns.violinplot(data=df, x='Species', y='PetalLengthCm')"
      ],
      "execution_count": null,
      "outputs": []
    },
    {
      "cell_type": "markdown",
      "metadata": {
        "id": "XBPqKRO0g8qU"
      },
      "source": [
        "6) violin plot - x: 종, y: 꽃잎 너비"
      ]
    },
    {
      "cell_type": "markdown",
      "metadata": {
        "id": "nRXOW65ahAXo"
      },
      "source": [
        "### 바이올린 플롯\n",
        "Violin Plot은 값 범위와 밀집정도를 시각적으로 동시에 확인할 수 있는 플롯"
      ]
    },
    {
      "cell_type": "code",
      "metadata": {
        "id": "AfiQ0JQDgqyo"
      },
      "source": [
        "sns.violinplot(data=df, x='Species', y='PetalWidthCm')"
      ],
      "execution_count": null,
      "outputs": []
    },
    {
      "cell_type": "markdown",
      "metadata": {
        "id": "Qw-wC3pGhNr_"
      },
      "source": [
        "- 카테고리 플랏은 값의 범위랑 그 부분에 데이터가 몇개나 있는지 알기 어렵다.\n",
        "그래서, 박스플롯과 kdeplot을 사용한다. 밀집도와 값의 범위를 쉽게 확인할 수 있다.\n",
        "이 두가지 방식을 혼합할 수 있는 플롯은 값의 범위(최소, 최대, 이상값)와 밀집 정도까지 시각적으로 한번에 알 수 있다. => 바이올린 플롯"
      ]
    }
  ]
}